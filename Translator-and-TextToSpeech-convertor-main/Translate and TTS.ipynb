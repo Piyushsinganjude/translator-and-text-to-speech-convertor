{
 "cells": [
  {
   "cell_type": "code",
   "execution_count": 2,
   "id": "227ad964",
   "metadata": {},
   "outputs": [
    {
     "name": "stdout",
     "output_type": "stream",
     "text": [
      "Defaulting to user installation because normal site-packages is not writeable\n",
      "Requirement already satisfied: ibm_watson in c:\\users\\koche\\appdata\\roaming\\python\\python38\\site-packages (5.2.3)\n",
      "Requirement already satisfied: python-dateutil>=2.5.3 in c:\\users\\koche\\appdata\\roaming\\python\\python38\\site-packages (from ibm_watson) (2.8.1)\n",
      "Requirement already satisfied: websocket-client==1.1.0 in c:\\users\\koche\\appdata\\roaming\\python\\python38\\site-packages (from ibm_watson) (1.1.0)\n",
      "Requirement already satisfied: requests<3.0,>=2.0 in c:\\users\\koche\\appdata\\roaming\\python\\python38\\site-packages (from ibm_watson) (2.24.0)\n",
      "Requirement already satisfied: ibm-cloud-sdk-core==3.*,>=3.3.6 in c:\\users\\koche\\appdata\\roaming\\python\\python38\\site-packages (from ibm_watson) (3.11.3)\n",
      "Requirement already satisfied: PyJWT<3.0.0,>=2.0.1 in c:\\users\\koche\\appdata\\roaming\\python\\python38\\site-packages (from ibm-cloud-sdk-core==3.*,>=3.3.6->ibm_watson) (2.1.0)\n",
      "Requirement already satisfied: six>=1.5 in c:\\users\\koche\\appdata\\roaming\\python\\python38\\site-packages (from python-dateutil>=2.5.3->ibm_watson) (1.15.0)\n",
      "Requirement already satisfied: certifi>=2017.4.17 in c:\\users\\koche\\appdata\\roaming\\python\\python38\\site-packages (from requests<3.0,>=2.0->ibm_watson) (2020.6.20)\n",
      "Requirement already satisfied: idna<3,>=2.5 in c:\\users\\koche\\appdata\\roaming\\python\\python38\\site-packages (from requests<3.0,>=2.0->ibm_watson) (2.10)\n",
      "Requirement already satisfied: chardet<4,>=3.0.2 in c:\\users\\koche\\appdata\\roaming\\python\\python38\\site-packages (from requests<3.0,>=2.0->ibm_watson) (3.0.4)\n",
      "Requirement already satisfied: urllib3!=1.25.0,!=1.25.1,<1.26,>=1.21.1 in c:\\users\\koche\\appdata\\roaming\\python\\python38\\site-packages (from requests<3.0,>=2.0->ibm_watson) (1.25.11)\n"
     ]
    }
   ],
   "source": [
    "!pip install ibm_watson"
   ]
  },
  {
   "cell_type": "code",
   "execution_count": 3,
   "id": "1b78ba44",
   "metadata": {},
   "outputs": [],
   "source": [
    "apikey='********************hid for security purpose'\n",
    "url='jid for security purpose'"
   ]
  },
  {
   "cell_type": "code",
   "execution_count": 4,
   "id": "2aa81230",
   "metadata": {},
   "outputs": [],
   "source": [
    "#dependencies\n",
    "from ibm_watson import LanguageTranslatorV3\n",
    "from ibm_cloud_sdk_core.authenticators import IAMAuthenticator"
   ]
  },
  {
   "cell_type": "code",
   "execution_count": 5,
   "id": "b06194c0",
   "metadata": {},
   "outputs": [],
   "source": [
    "#authenticate\n",
    "authenticator=IAMAuthenticator(apikey)\n",
    "lt=LanguageTranslatorV3(version='2018-05-01',authenticator=authenticator)\n",
    "lt.set_service_url(url)"
   ]
  },
  {
   "cell_type": "code",
   "execution_count": 6,
   "id": "7e8d9647",
   "metadata": {},
   "outputs": [],
   "source": [
    "testData='Hello Ayan, This is a practice project.'"
   ]
  },
  {
   "cell_type": "code",
   "execution_count": 7,
   "id": "0220bf74",
   "metadata": {},
   "outputs": [],
   "source": [
    "#Translation\n",
    "translation=lt.translate(text=testData,model_id='en-fr').get_result()"
   ]
  },
  {
   "cell_type": "code",
   "execution_count": 8,
   "id": "56791c40",
   "metadata": {},
   "outputs": [
    {
     "data": {
      "text/plain": [
       "\"Bonjour Ayan, Il s'agit d'un projet de pratique.\""
      ]
     },
     "execution_count": 8,
     "metadata": {},
     "output_type": "execute_result"
    }
   ],
   "source": [
    "text=translation['translations'][0]['translation']\n",
    "text"
   ]
  },
  {
   "cell_type": "code",
   "execution_count": 9,
   "id": "836302fc",
   "metadata": {},
   "outputs": [],
   "source": [
    "#Text To Speech(TTS)\n",
    "TTSapikey='Hidden'\n",
    "TTSurl='Hidden'"
   ]
  },
  {
   "cell_type": "code",
   "execution_count": 10,
   "id": "93838b94",
   "metadata": {},
   "outputs": [],
   "source": [
    "from ibm_watson import TextToSpeechV1"
   ]
  },
  {
   "cell_type": "code",
   "execution_count": 11,
   "id": "271c88e6",
   "metadata": {},
   "outputs": [],
   "source": [
    "#authenticate\n",
    "TTSauthenticator=IAMAuthenticator(TTSapikey)\n",
    "TTS=TextToSpeechV1(authenticator=TTSauthenticator)\n",
    "TTS.set_service_url(TTSurl)"
   ]
  },
  {
   "cell_type": "code",
   "execution_count": 13,
   "id": "eb70e97e",
   "metadata": {},
   "outputs": [],
   "source": [
    "with open('./help.mp3','wb') as audio_file:\n",
    "    res=TTS.synthesize(text,accept='audio/mp3',voice='fr-FR_NicolasV3Voice').get_result()\n",
    "    audio_file.write(res.content)"
   ]
  },
  {
   "cell_type": "code",
   "execution_count": null,
   "id": "c3f9fab0",
   "metadata": {},
   "outputs": [],
   "source": []
  }
 ],
 "metadata": {
  "kernelspec": {
   "display_name": "Python 3",
   "language": "python",
   "name": "python3"
  },
  "language_info": {
   "codemirror_mode": {
    "name": "ipython",
    "version": 3
   },
   "file_extension": ".py",
   "mimetype": "text/x-python",
   "name": "python",
   "nbconvert_exporter": "python",
   "pygments_lexer": "ipython3",
   "version": "3.8.5"
  }
 },
 "nbformat": 4,
 "nbformat_minor": 5
}
